{
  "nbformat": 4,
  "nbformat_minor": 0,
  "metadata": {
    "colab": {
      "provenance": [],
      "authorship_tag": "ABX9TyOy8bEge5zs2TDKxxM0VC9P",
      "include_colab_link": true
    },
    "kernelspec": {
      "name": "python3",
      "display_name": "Python 3"
    },
    "language_info": {
      "name": "python"
    }
  },
  "cells": [
    {
      "cell_type": "markdown",
      "metadata": {
        "id": "view-in-github",
        "colab_type": "text"
      },
      "source": [
        "<a href=\"https://colab.research.google.com/github/hanveiga/1d-dg-nn/blob/master/Tutorial_first_task.ipynb\" target=\"_parent\"><img src=\"https://colab.research.google.com/assets/colab-badge.svg\" alt=\"Open In Colab\"/></a>"
      ]
    },
    {
      "cell_type": "code",
      "execution_count": null,
      "metadata": {
        "id": "VIsqdpXNBnBA"
      },
      "outputs": [],
      "source": [
        "# Task 1"
      ]
    },
    {
      "cell_type": "code",
      "source": [
        "import numpy as np\n",
        "from numpy.random import normal\n",
        "\n",
        "def generate_dataset(N, var = 1.0):\n",
        "  x = ...\n",
        "  y = ...\n",
        "  return x, y"
      ],
      "metadata": {
        "id": "OeGxbo2XBqlV"
      },
      "execution_count": null,
      "outputs": []
    },
    {
      "cell_type": "code",
      "source": [
        "from sklearn.model_selection import train_test_split\n",
        "\n",
        "... = train_test_split(...)"
      ],
      "metadata": {
        "id": "lFU9C86qB1Y6"
      },
      "execution_count": null,
      "outputs": []
    },
    {
      "cell_type": "code",
      "source": [
        "from sklearn.linear_model import LinearRegression\n",
        "\n",
        "regressor = LinearRegression()\n",
        "regressor.fit(...)\n"
      ],
      "metadata": {
        "colab": {
          "base_uri": "https://localhost:8080/"
        },
        "id": "ZXgKD55WCMA2",
        "outputId": "b50e256b-2127-4f3e-dd0f-0b769bd75cb4"
      },
      "execution_count": null,
      "outputs": [
        {
          "output_type": "execute_result",
          "data": {
            "text/plain": [
              "Ellipsis"
            ]
          },
          "metadata": {},
          "execution_count": 1
        }
      ]
    },
    {
      "cell_type": "code",
      "source": [
        "from sklearn.metrics import mean_squared_error\n",
        "\n",
        "y_pred = regressor.predict(...)\n",
        "\n",
        "print(f\"Mean squared error: {mean_squared_error(.., ..):.2f}\")"
      ],
      "metadata": {
        "id": "2FCvJ4qJCpqY"
      },
      "execution_count": null,
      "outputs": []
    },
    {
      "cell_type": "code",
      "source": [
        "from matplotlib import pyplot as plt\n",
        "\n",
        "plt.plot(#plot predicted data, \\\n",
        "        marker='.', linestyle='None', label = 'Predicted label')\n",
        "plt.plot(#plot true data, \\\n",
        "        marker='o', linestyle='None', label = 'True label')\n",
        "plt.legend()\n",
        "\n"
      ],
      "metadata": {
        "id": "fCgiQbvhC0gL"
      },
      "execution_count": null,
      "outputs": []
    }
  ]
}